{
 "cells": [
  {
   "cell_type": "code",
   "execution_count": 93,
   "id": "0ad66d61-3187-42da-bcb7-22fe4e819c95",
   "metadata": {},
   "outputs": [
    {
     "name": "stdout",
     "output_type": "stream",
     "text": [
      "1\n",
      "2\n",
      "5\n",
      "14\n",
      "42\n",
      "100\n",
      "236\n",
      "574\n",
      "1429\n",
      "3600\n",
      "9080\n",
      "22715\n",
      "56611\n",
      "141136\n"
     ]
    },
    {
     "ename": "KeyboardInterrupt",
     "evalue": "",
     "output_type": "error",
     "traceback": [
      "\u001b[1;31m---------------------------------------------------------------------------\u001b[0m",
      "\u001b[1;31mKeyboardInterrupt\u001b[0m                         Traceback (most recent call last)",
      "Cell \u001b[1;32mIn[93], line 26\u001b[0m\n\u001b[0;32m     24\u001b[0m     data[i]\u001b[38;5;241m=\u001b[39mdata[i]\u001b[38;5;241m.\u001b[39msplit(\u001b[38;5;124m'\u001b[39m\u001b[38;5;124m,\u001b[39m\u001b[38;5;124m'\u001b[39m, maxsplit\u001b[38;5;241m=\u001b[39m\u001b[38;5;241m-\u001b[39m\u001b[38;5;241m1\u001b[39m)\n\u001b[0;32m     25\u001b[0m     \u001b[38;5;28;01mfor\u001b[39;00m j \u001b[38;5;129;01min\u001b[39;00m \u001b[38;5;28mrange\u001b[39m(\u001b[38;5;241m0\u001b[39m,\u001b[38;5;241m2\u001b[39m\u001b[38;5;241m*\u001b[39mnum):\n\u001b[1;32m---> 26\u001b[0m         data[i][j]\u001b[38;5;241m=\u001b[39m\u001b[38;5;28;43mint\u001b[39;49m\u001b[43m(\u001b[49m\u001b[43mdata\u001b[49m\u001b[43m[\u001b[49m\u001b[43mi\u001b[49m\u001b[43m]\u001b[49m\u001b[43m[\u001b[49m\u001b[43mj\u001b[49m\u001b[43m]\u001b[49m\u001b[43m)\u001b[49m\n\u001b[0;32m     27\u001b[0m     \u001b[38;5;66;03m#print(data[i])\u001b[39;00m\n\u001b[0;32m     28\u001b[0m up\u001b[38;5;241m=\u001b[39m[]\n",
      "\u001b[1;31mKeyboardInterrupt\u001b[0m: "
     ]
    }
   ],
   "source": [
    "######################################################\n",
    "# This program is written to enumerate the number of possible isomers of n-mers from linearly catenated species, where its cavity has finite volume\n",
    "# Only \"m\" panels can be placed in the cavity of any monomer.\n",
    "#We do not consider the recurrance by inversion.\n",
    "######################################################\n",
    "import numpy\n",
    "from itertools import product\n",
    "\n",
    "def solve(num, cache={0: ['']}):\n",
    "    if num not in cache:\n",
    "        cache[num] = ['1,%s-1,%s' % t for i in range(1, num + 1)\n",
    "            for t in product(solve(i - 1), solve(num - i))]\n",
    "    return cache[num]\n",
    "\n",
    "# Test\n",
    "data=[]\n",
    "N=20\n",
    "m=6 # Cavity Volume\n",
    "for num in range(2,N+2):\n",
    "    data=[]\n",
    "    for s in solve(num):\n",
    "        #print(s)\n",
    "        data.append(s)\n",
    "    L=len(data)\n",
    "\n",
    "\n",
    "    enum=[]\n",
    "    for i in range(0,L):\n",
    "        data[i]=data[i].split(',', maxsplit=-1)\n",
    "        for j in range(0,2*num):\n",
    "            data[i][j]=int(data[i][j])\n",
    "        #print(data[i])\n",
    "    up=[]\n",
    "    down=[]\n",
    "    valn=0\n",
    "    for i in range(0,L):\n",
    "        up=[]\n",
    "        down=[]\n",
    "        sum=0\n",
    "        tmp=0\n",
    "        for j in range(0,2*num):\n",
    "            if (data[i][j]==-1):\n",
    "                down.append(j)\n",
    "            if (data[i][j]==1):\n",
    "                up.append(j)\n",
    "        for l in range(0,2*num-1):\n",
    "            sum=sum+data[i][l]\n",
    "            if (sum==0):\n",
    "                tmp=tmp+1\n",
    "\n",
    "        for k in range(0,num):\n",
    "            if (down[k]-up[k]>m):\n",
    "                tmp=tmp+1\n",
    "\n",
    "        if (tmp==0):\n",
    "            valn=valn+1\n",
    "            #print(data[i])\n",
    "            #print(up,down)\n",
    "    del up,down\n",
    "    print(valn)\n",
    "#END OF CODES          \n",
    "        \n",
    "\n"
   ]
  }
 ],
 "metadata": {
  "kernelspec": {
   "display_name": "Python 3 (ipykernel)",
   "language": "python",
   "name": "python3"
  },
  "language_info": {
   "codemirror_mode": {
    "name": "ipython",
    "version": 3
   },
   "file_extension": ".py",
   "mimetype": "text/x-python",
   "name": "python",
   "nbconvert_exporter": "python",
   "pygments_lexer": "ipython3",
   "version": "3.10.11"
  }
 },
 "nbformat": 4,
 "nbformat_minor": 5
}
